{
 "cells": [
  {
   "cell_type": "markdown",
   "metadata": {},
   "source": [
    "## Gzip compression"
   ]
  },
  {
   "cell_type": "code",
   "execution_count": 1,
   "metadata": {},
   "outputs": [],
   "source": [
    "text1 = \"hello world.\"\n",
    "text2 = \"welcome to my project about gzip compression.\""
   ]
  },
  {
   "cell_type": "code",
   "execution_count": 2,
   "metadata": {},
   "outputs": [],
   "source": [
    "import gzip"
   ]
  },
  {
   "cell_type": "markdown",
   "metadata": {},
   "source": [
    "## Deflate compression algorithm"
   ]
  },
  {
   "cell_type": "code",
   "execution_count": 3,
   "metadata": {},
   "outputs": [
    {
     "data": {
      "text/plain": [
       "b'\\x1f\\x8b\\x08\\x00\\x8e,\\x89f\\x02\\xff\\xcbH\\xcd\\xc9\\xc9W(\\xcf/\\xcaI\\xd1\\x03\\x00\\xfc\\xdf\\x0b\\x93\\x0c\\x00\\x00\\x00'"
      ]
     },
     "execution_count": 3,
     "metadata": {},
     "output_type": "execute_result"
    }
   ],
   "source": [
    "gzip.compress(text1.encode())"
   ]
  },
  {
   "cell_type": "code",
   "execution_count": 4,
   "metadata": {},
   "outputs": [
    {
     "data": {
      "text/plain": [
       "b'\\x1f\\x8b\\x08\\x00d-\\x89f\\x02\\xff+O\\xcdI\\xce\\xcfMU(\\xc9W\\xc8\\xadT((\\xca\\xcfJM.QHL\\xca/-QH\\xaf\\xca,P\\x00\\xca\\x16\\x14\\xa5\\x16\\x17g\\xe6\\xe7\\xe9\\x01\\x00\\t\\xfaw\\x13-\\x00\\x00\\x00'"
      ]
     },
     "execution_count": 4,
     "metadata": {},
     "output_type": "execute_result"
    }
   ],
   "source": [
    "gzip.compress(text2.encode())"
   ]
  },
  {
   "cell_type": "code",
   "execution_count": 8,
   "metadata": {},
   "outputs": [
    {
     "data": {
      "text/plain": [
       "b'\\x1f\\x8b\\x08\\x00v.\\x89f\\x02\\xff\\r\\xc9\\xc1\\r\\x800\\x0c\\x03\\xc0U<Aw\\x82bAQ\\x8a\\xa34\\xa8\\x82\\xe9\\xe1\\xbew\\xd0L\\x98\\n\\xdb\\xca\\xa4Uu\"\\x85\\xfe\\xc0C\\'kbYu\\'\\xf6\\xb79\\xfe\\xf5\\xe0\\x18MW\\xf9\\x002\\xdc\\xc6\\xad9\\x00\\x00\\x00'"
      ]
     },
     "execution_count": 8,
     "metadata": {},
     "output_type": "execute_result"
    }
   ],
   "source": [
    "gzip.compress(''.join([text1, text2]).encode())"
   ]
  },
  {
   "cell_type": "code",
   "execution_count": 9,
   "metadata": {},
   "outputs": [
    {
     "data": {
      "text/plain": [
       "75"
      ]
     },
     "execution_count": 9,
     "metadata": {},
     "output_type": "execute_result"
    }
   ],
   "source": [
    "len(gzip.compress(''.join([text1, text2]).encode()))"
   ]
  },
  {
   "cell_type": "markdown",
   "metadata": {},
   "source": [
    "- appending the same text to the initial string, gets fully compressed"
   ]
  },
  {
   "cell_type": "code",
   "execution_count": 14,
   "metadata": {},
   "outputs": [
    {
     "data": {
      "text/plain": [
       "35"
      ]
     },
     "execution_count": 14,
     "metadata": {},
     "output_type": "execute_result"
    }
   ],
   "source": [
    "len(gzip.compress(''.join([text1, text1]).encode()))"
   ]
  },
  {
   "cell_type": "markdown",
   "metadata": {},
   "source": [
    "## Tie Breaking fix\n",
    "- the original code in the paper always selected the lowest label in case of a tie, which is actually not correct."
   ]
  },
  {
   "cell_type": "code",
   "execution_count": 15,
   "metadata": {},
   "outputs": [
    {
     "data": {
      "text/plain": [
       "0"
      ]
     },
     "execution_count": 15,
     "metadata": {},
     "output_type": "execute_result"
    }
   ],
   "source": [
    "top_k_classes = [1, 0, 2]\n",
    "max(set(top_k_classes), key=top_k_classes.count)"
   ]
  },
  {
   "cell_type": "markdown",
   "metadata": {},
   "source": [
    "- Since we sort the list by the distance it is more accurate, to pick the first label in case of a tie."
   ]
  },
  {
   "cell_type": "code",
   "execution_count": 16,
   "metadata": {},
   "outputs": [
    {
     "data": {
      "text/plain": [
       "2"
      ]
     },
     "execution_count": 16,
     "metadata": {},
     "output_type": "execute_result"
    }
   ],
   "source": [
    "from collections import Counter\n",
    "\n",
    "top_k_classes_fixed = [1, 0, 2, 2]\n",
    "Counter(top_k_classes_fixed).most_common()[0][0]"
   ]
  },
  {
   "cell_type": "code",
   "execution_count": null,
   "metadata": {},
   "outputs": [],
   "source": [
    "Counter(top_k_classes_fixed).most_common()"
   ]
  }
 ],
 "metadata": {
  "interpreter": {
   "hash": "b60f5bfde2dc6003c52249e7ba87cb8994d8effec2917dd9467812f9cc41ae70"
  },
  "kernelspec": {
   "display_name": "Python 3.9.18 ('base')",
   "language": "python",
   "name": "python3"
  },
  "language_info": {
   "codemirror_mode": {
    "name": "ipython",
    "version": 3
   },
   "file_extension": ".py",
   "mimetype": "text/x-python",
   "name": "python",
   "nbconvert_exporter": "python",
   "pygments_lexer": "ipython3",
   "version": "3.9.18"
  },
  "orig_nbformat": 4
 },
 "nbformat": 4,
 "nbformat_minor": 2
}
